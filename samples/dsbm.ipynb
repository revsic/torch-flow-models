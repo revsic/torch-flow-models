{
 "cells": [
  {
   "cell_type": "markdown",
   "metadata": {},
   "source": [
    "# Diffusion Schrodinger Bridge Matching\n",
    "\n",
    "Diffusion Schrodinger Bridge Matching, Shi et al., 2023.\n",
    "\n",
    "## 1. Prepare Dataset\n",
    "\n",
    "Define the gaussian mixture distribution as the target distribution."
   ]
  },
  {
   "cell_type": "code",
   "execution_count": 1,
   "metadata": {},
   "outputs": [
    {
     "data": {
      "image/png": "[encoded data removed]",
      "text/plain": [
       "<Figure size 640x480 with 1 Axes>"
      ]
     },
     "metadata": {},
     "output_type": "display_data"
    }
   ],
   "source": [
    "import matplotlib.pyplot as plt\n",
    "import numpy as np\n",
    "import torch\n",
    "import torch.distributions as D\n",
    "\n",
    "mixture = D.MixtureSameFamily(\n",
    "    D.Categorical(torch.tensor([0.3, 0.7])),\n",
    "    D.Normal(torch.tensor([-0.5, 1.0]), torch.tensor([0.1, 0.2])),\n",
    ")\n",
    "# target distribution\n",
    "X = mixture.sample((100000, 1))\n",
    "\n",
    "_ = plt.hist(X, bins=np.linspace(-5, 5, 200), label=\"data\")"
   ]
  },
  {
   "cell_type": "markdown",
   "metadata": {},
   "source": [
    "## 2. Define Model\n",
    "\n",
    "Define MLP backbone and DSBM training framework."
   ]
  },
  {
   "cell_type": "code",
   "execution_count": 2,
   "metadata": {},
   "outputs": [
    {
     "data": {
      "text/plain": [
       "DiffusionSchrodingerBridgeMatching(\n",
       "  (fwd): Backbone(\n",
       "    (net): Sequential(\n",
       "      (0): Linear(in_features=2, out_features=64, bias=True)\n",
       "      (1): ReLU()\n",
       "      (2): Linear(in_features=64, out_features=64, bias=True)\n",
       "      (3): ReLU()\n",
       "      (4): Linear(in_features=64, out_features=64, bias=True)\n",
       "      (5): ReLU()\n",
       "      (6): Linear(in_features=64, out_features=64, bias=True)\n",
       "      (7): ReLU()\n",
       "      (8): Linear(in_features=64, out_features=1, bias=True)\n",
       "    )\n",
       "  )\n",
       "  (bwd): Backbone(\n",
       "    (net): Sequential(\n",
       "      (0): Linear(in_features=2, out_features=64, bias=True)\n",
       "      (1): ReLU()\n",
       "      (2): Linear(in_features=64, out_features=64, bias=True)\n",
       "      (3): ReLU()\n",
       "      (4): Linear(in_features=64, out_features=64, bias=True)\n",
       "      (5): ReLU()\n",
       "      (6): Linear(in_features=64, out_features=64, bias=True)\n",
       "      (7): ReLU()\n",
       "      (8): Linear(in_features=64, out_features=1, bias=True)\n",
       "    )\n",
       "  )\n",
       ")"
      ]
     },
     "execution_count": 2,
     "metadata": {},
     "output_type": "execute_result"
    }
   ],
   "source": [
    "import torch\n",
    "import torch.nn as nn\n",
    "\n",
    "from flowmodels import DiffusionSchrodingerBridgeMatching\n",
    "\n",
    "\n",
    "class Backbone(nn.Module):\n",
    "    def __init__(self, dim: int = 1, layers: int = 3):\n",
    "        super().__init__()\n",
    "        self.net = nn.Sequential(\n",
    "            nn.Linear(dim + 1, 64),\n",
    "            *[\n",
    "                submodule\n",
    "                for _ in range(layers)\n",
    "                for submodule in (nn.ReLU(), nn.Linear(64, 64))\n",
    "            ],\n",
    "            nn.ReLU(),\n",
    "            nn.Linear(64, dim),\n",
    "        )\n",
    "\n",
    "    def forward(self, x_t: torch.Tensor, t: torch.Tensor) -> torch.Tensor:\n",
    "        return self.net.forward(torch.cat([x_t, t[:, None].to(x_t)], dim=-1))\n",
    "\n",
    "\n",
    "model = DiffusionSchrodingerBridgeMatching(Backbone())\n",
    "model"
   ]
  },
  {
   "cell_type": "markdown",
   "metadata": {},
   "source": [
    "## 3. Train DSBM\n",
    "\n",
    "Train the DSBM with the prepared dataset."
   ]
  },
  {
   "cell_type": "code",
   "execution_count": 3,
   "metadata": {},
   "outputs": [
    {
     "data": {
      "application/vnd.jupyter.widget-view+json": {
       "model_id": "8561833ea92b48eda028fafcbb8f7ff2",
       "version_major": 2,
       "version_minor": 0
      },
      "text/plain": [
       "  0%|          | 0/10 [00:00<?, ?it/s]"
      ]
     },
     "metadata": {},
     "output_type": "display_data"
    },
    {
     "data": {
      "application/vnd.jupyter.widget-view+json": {
       "model_id": "5e90e04230b1489ca260dbccefe1bbba",
       "version_major": 2,
       "version_minor": 0
      },
      "text/plain": [
       "  0%|          | 0/100 [00:00<?, ?it/s]"
      ]
     },
     "metadata": {},
     "output_type": "display_data"
    },
    {
     "data": {
      "application/vnd.jupyter.widget-view+json": {
       "model_id": "42b34d2635cf403ea9d1dc9ed3197342",
       "version_major": 2,
       "version_minor": 0
      },
      "text/plain": [
       "  0%|          | 0/20 [00:00<?, ?it/s]"
      ]
     },
     "metadata": {},
     "output_type": "display_data"
    },
    {
     "data": {
      "application/vnd.jupyter.widget-view+json": {
       "model_id": "7aed14f1e7a540e3a0978fd15a5a8df8",
       "version_major": 2,
       "version_minor": 0
      },
      "text/plain": [
       "  0%|          | 0/100 [00:00<?, ?it/s]"
      ]
     },
     "metadata": {},
     "output_type": "display_data"
    },
    {
     "data": {
      "application/vnd.jupyter.widget-view+json": {
       "model_id": "fe00b764769741ecbcbfc51d79c570c0",
       "version_major": 2,
       "version_minor": 0
      },
      "text/plain": [
       "  0%|          | 0/20 [00:00<?, ?it/s]"
      ]
     },
     "metadata": {},
     "output_type": "display_data"
    },
    {
     "data": {
      "application/vnd.jupyter.widget-view+json": {
       "model_id": "9fafcdc4d1ba4f2cb3087c22d17c0638",
       "version_major": 2,
       "version_minor": 0
      },
      "text/plain": [
       "  0%|          | 0/100 [00:00<?, ?it/s]"
      ]
     },
     "metadata": {},
     "output_type": "display_data"
    },
    {
     "data": {
      "application/vnd.jupyter.widget-view+json": {
       "model_id": "395bfe215192485f88f89d255d4164f2",
       "version_major": 2,
       "version_minor": 0
      },
      "text/plain": [
       "  0%|          | 0/20 [00:00<?, ?it/s]"
      ]
     },
     "metadata": {},
     "output_type": "display_data"
    },
    {
     "data": {
      "application/vnd.jupyter.widget-view+json": {
       "model_id": "7a225a69372443ddb6323c0f08c97654",
       "version_major": 2,
       "version_minor": 0
      },
      "text/plain": [
       "  0%|          | 0/100 [00:00<?, ?it/s]"
      ]
     },
     "metadata": {},
     "output_type": "display_data"
    },
    {
     "data": {
      "application/vnd.jupyter.widget-view+json": {
       "model_id": "9d9c383515db47c9b7a7adb347605b01",
       "version_major": 2,
       "version_minor": 0
      },
      "text/plain": [
       "  0%|          | 0/20 [00:00<?, ?it/s]"
      ]
     },
     "metadata": {},
     "output_type": "display_data"
    },
    {
     "data": {
      "application/vnd.jupyter.widget-view+json": {
       "model_id": "32a4d4909ca54e85b90c7aff103c63ec",
       "version_major": 2,
       "version_minor": 0
      },
      "text/plain": [
       "  0%|          | 0/100 [00:00<?, ?it/s]"
      ]
     },
     "metadata": {},
     "output_type": "display_data"
    },
    {
     "data": {
      "application/vnd.jupyter.widget-view+json": {
       "model_id": "f01a3b17312646a2bc25d1dee1ad128e",
       "version_major": 2,
       "version_minor": 0
      },
      "text/plain": [
       "  0%|          | 0/20 [00:00<?, ?it/s]"
      ]
     },
     "metadata": {},
     "output_type": "display_data"
    },
    {
     "data": {
      "application/vnd.jupyter.widget-view+json": {
       "model_id": "7f97822f66774d3f95b626142a59cc2a",
       "version_major": 2,
       "version_minor": 0
      },
      "text/plain": [
       "  0%|          | 0/100 [00:00<?, ?it/s]"
      ]
     },
     "metadata": {},
     "output_type": "display_data"
    },
    {
     "data": {
      "application/vnd.jupyter.widget-view+json": {
       "model_id": "2f40bbac653c4509880cbc41f2684104",
       "version_major": 2,
       "version_minor": 0
      },
      "text/plain": [
       "  0%|          | 0/20 [00:00<?, ?it/s]"
      ]
     },
     "metadata": {},
     "output_type": "display_data"
    },
    {
     "data": {
      "application/vnd.jupyter.widget-view+json": {
       "model_id": "762d342e48954e0eb611e7643ed7c096",
       "version_major": 2,
       "version_minor": 0
      },
      "text/plain": [
       "  0%|          | 0/100 [00:00<?, ?it/s]"
      ]
     },
     "metadata": {},
     "output_type": "display_data"
    },
    {
     "data": {
      "application/vnd.jupyter.widget-view+json": {
       "model_id": "097c3f1b7c384863963418d6b3dd798a",
       "version_major": 2,
       "version_minor": 0
      },
      "text/plain": [
       "  0%|          | 0/20 [00:00<?, ?it/s]"
      ]
     },
     "metadata": {},
     "output_type": "display_data"
    },
    {
     "data": {
      "application/vnd.jupyter.widget-view+json": {
       "model_id": "dafde710a4db4d5395667dfc82bfff35",
       "version_major": 2,
       "version_minor": 0
      },
      "text/plain": [
       "  0%|          | 0/100 [00:00<?, ?it/s]"
      ]
     },
     "metadata": {},
     "output_type": "display_data"
    },
    {
     "data": {
      "application/vnd.jupyter.widget-view+json": {
       "model_id": "7914553bddc9408c824ca186642043f8",
       "version_major": 2,
       "version_minor": 0
      },
      "text/plain": [
       "  0%|          | 0/20 [00:00<?, ?it/s]"
      ]
     },
     "metadata": {},
     "output_type": "display_data"
    },
    {
     "data": {
      "application/vnd.jupyter.widget-view+json": {
       "model_id": "594c00bc46a64ebebae56ad23a262c35",
       "version_major": 2,
       "version_minor": 0
      },
      "text/plain": [
       "  0%|          | 0/100 [00:00<?, ?it/s]"
      ]
     },
     "metadata": {},
     "output_type": "display_data"
    },
    {
     "data": {
      "application/vnd.jupyter.widget-view+json": {
       "model_id": "159335e0c988498096b1fe63fc54b0f8",
       "version_major": 2,
       "version_minor": 0
      },
      "text/plain": [
       "  0%|          | 0/20 [00:00<?, ?it/s]"
      ]
     },
     "metadata": {},
     "output_type": "display_data"
    },
    {
     "data": {
      "application/vnd.jupyter.widget-view+json": {
       "model_id": "3815f580ccaf49f59fdb26dd6965e98c",
       "version_major": 2,
       "version_minor": 0
      },
      "text/plain": [
       "  0%|          | 0/100 [00:00<?, ?it/s]"
      ]
     },
     "metadata": {},
     "output_type": "display_data"
    },
    {
     "data": {
      "application/vnd.jupyter.widget-view+json": {
       "model_id": "a41da9537c67491dba7ad253920fd6df",
       "version_major": 2,
       "version_minor": 0
      },
      "text/plain": [
       "  0%|          | 0/20 [00:00<?, ?it/s]"
      ]
     },
     "metadata": {},
     "output_type": "display_data"
    },
    {
     "data": {
      "application/vnd.jupyter.widget-view+json": {
       "model_id": "a0a76147a67b4754bd330a71076eb13a",
       "version_major": 2,
       "version_minor": 0
      },
      "text/plain": [
       "  0%|          | 0/100 [00:00<?, ?it/s]"
      ]
     },
     "metadata": {},
     "output_type": "display_data"
    },
    {
     "data": {
      "text/plain": [
       "<matplotlib.legend.Legend at 0x1518beba0>"
      ]
     },
     "execution_count": 3,
     "metadata": {},
     "output_type": "execute_result"
    },
    {
     "data": {
      "image/png": "[encoded data removed]",
      "text/plain": [
       "<Figure size 640x480 with 1 Axes>"
      ]
     },
     "metadata": {},
     "output_type": "display_data"
    },
    {
     "data": {
      "image/png": "[encoded data removed]",
      "text/plain": [
       "<Figure size 640x480 with 1 Axes>"
      ]
     },
     "metadata": {},
     "output_type": "display_data"
    },
    {
     "data": {
      "image/png": "[encoded data removed]",
      "text/plain": [
       "<Figure size 640x480 with 1 Axes>"
      ]
     },
     "metadata": {},
     "output_type": "display_data"
    }
   ],
   "source": [
    "import torch\n",
    "from tqdm.auto import tqdm\n",
    "\n",
    "\n",
    "# training configurations\n",
    "LR = 0.001\n",
    "TRAIN_STEPS = 100\n",
    "OUTER_STEPS = 10\n",
    "BATCH_SIZE = 2048\n",
    "\n",
    "# train\n",
    "model.train()\n",
    "optim = torch.optim.Adam(model.parameters(), LR)\n",
    "losses = model.imf(\n",
    "    x_0=X,\n",
    "    x_1=torch.randn_like(X),\n",
    "    optim=optim,\n",
    "    batch_size=BATCH_SIZE,\n",
    "    inner_steps=TRAIN_STEPS,\n",
    "    outer_steps=OUTER_STEPS,\n",
    "    steps=20,\n",
    "    verbose=lambda r: tqdm(r, leave=False),\n",
    ")\n",
    "\n",
    "plt.plot(\n",
    "    [loss for unit in losses if unit[\"direction\"] == \"fwd\" for loss in unit[\"losses\"]],\n",
    "    label=\"fwd\",\n",
    ")\n",
    "plt.plot(\n",
    "    [loss for unit in losses if unit[\"direction\"] == \"bwd\" for loss in unit[\"losses\"]],\n",
    "    label=\"bwd\",\n",
    ")\n",
    "plt.legend()\n",
    "\n",
    "# plot histogram\n",
    "n = 10000\n",
    "sample = torch.randn(n, X.shape[-1])\n",
    "with torch.inference_mode():\n",
    "    x_t, _ = model.sample(sample, verbose=lambda x: tqdm(x, leave=False), steps=100)\n",
    "\n",
    "plt.figure()\n",
    "plt.hist(sample, bins=np.linspace(-5, 5, 200), label=\"prior\")\n",
    "plt.hist(X[:n], bins=np.linspace(-5, 5, 200), label=\"gt\", alpha=0.7)\n",
    "plt.hist(x_t.view(-1), bins=np.linspace(-5, 5, 200), label=\"dsbm\", alpha=0.5)\n",
    "plt.legend()\n",
    "_xticks, _ = plt.xticks()\n",
    "\n",
    "# plot trajectory\n",
    "n = 200\n",
    "with torch.inference_mode():\n",
    "    _, x_ts = model.sample(torch.linspace(-3, 3, n)[:, None], steps=100)\n",
    "\n",
    "plt.figure()\n",
    "for i in range(10):\n",
    "    plt.plot(\n",
    "        torch.tensor([_x_t[i * 20].item() for _x_t in x_ts]),\n",
    "        np.linspace(0, 1, len(x_ts)),\n",
    "        \"b\",\n",
    "        **({} if i > 0 else {\"label\": \"dsbm\"}),  # labeling on first plot only\n",
    "    )\n",
    "    plt.xticks(_xticks)\n",
    "plt.legend()"
   ]
  },
  {
   "cell_type": "code",
   "execution_count": null,
   "metadata": {},
   "outputs": [],
   "source": []
  }
 ],
 "metadata": {
  "kernelspec": {
   "display_name": "base",
   "language": "python",
   "name": "python3"
  },
  "language_info": {
   "codemirror_mode": {
    "name": "ipython",
    "version": 3
   },
   "file_extension": ".py",
   "mimetype": "text/x-python",
   "name": "python",
   "nbconvert_exporter": "python",
   "pygments_lexer": "ipython3",
   "version": "3.12.9"
  }
 },
 "nbformat": 4,
 "nbformat_minor": 2
}
